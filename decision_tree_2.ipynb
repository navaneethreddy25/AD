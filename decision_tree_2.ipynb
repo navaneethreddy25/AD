{
  "nbformat": 4,
  "nbformat_minor": 0,
  "metadata": {
    "colab": {
      "provenance": [],
      "authorship_tag": "ABX9TyNhAtNWp8vAeBf7xC6qXTFr",
      "include_colab_link": true
    },
    "kernelspec": {
      "name": "python3",
      "display_name": "Python 3"
    },
    "language_info": {
      "name": "python"
    }
  },
  "cells": [
    {
      "cell_type": "markdown",
      "metadata": {
        "id": "view-in-github",
        "colab_type": "text"
      },
      "source": [
        "<a href=\"https://colab.research.google.com/github/navaneethreddy25/AD/blob/main/decision_tree_2.ipynb\" target=\"_parent\"><img src=\"https://colab.research.google.com/assets/colab-badge.svg\" alt=\"Open In Colab\"/></a>"
      ]
    },
    {
      "cell_type": "code",
      "source": [
        "from pandas import read_csv\n",
        "from sklearn.model_selection import KFold # Changed KFlod to KFold\n",
        "from sklearn.model_selection import cross_val_score # Changed model_seclection to model_selection\n",
        "from sklearn.ensemble import RandomForestClassifier"
      ],
      "metadata": {
        "id": "mYoTzuRBcjy2"
      },
      "execution_count": 3,
      "outputs": []
    },
    {
      "cell_type": "code",
      "source": [
        "file_name='/content/pima-indians-diabetes.data.csv'\n",
        "names=['preg','plas','pres','skin','test','mass','pedi','age','class']\n",
        "dataframe=read_csv(file_name,names=names)\n",
        "array=dataframe.values"
      ],
      "metadata": {
        "id": "euDISpSXvMSe"
      },
      "execution_count": 4,
      "outputs": []
    },
    {
      "cell_type": "code",
      "source": [
        "X=array[:,0:8]\n",
        "y=array[:,8]"
      ],
      "metadata": {
        "id": "pK0e_UfnwKgH"
      },
      "execution_count": 6,
      "outputs": []
    },
    {
      "cell_type": "code",
      "source": [
        "##parameters to model\n",
        "seed=7\n",
        "num_tress=100\n",
        "k_flod=KFold(n_splits=10,shuffle=True,random_state=seed)\n",
        "model=RandomForestClassifier(n_estimators=num_tress,max_features=3)\n",
        "results=cross_val_score(model,X,y,cv=k_flod)\n",
        "print(results.mean())"
      ],
      "metadata": {
        "colab": {
          "base_uri": "https://localhost:8080/"
        },
        "id": "xPSHNCCnxysB",
        "outputId": "67469688-ede4-4b51-9451-77bc3fd583b4"
      },
      "execution_count": 8,
      "outputs": [
        {
          "output_type": "stream",
          "name": "stdout",
          "text": [
            "0.7591421736158579\n"
          ]
        }
      ]
    },
    {
      "cell_type": "code",
      "source": [],
      "metadata": {
        "id": "jfg3Hc-ayYNg"
      },
      "execution_count": null,
      "outputs": []
    }
  ]
}